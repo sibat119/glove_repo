{
 "cells": [
  {
   "cell_type": "markdown",
   "metadata": {},
   "source": [
    "# Trane - A quick DEMO\n",
    "\n",
    "Trane is a software package for automatically generating prediction problems and generating labels for supervised learning. This tutorial shows the workflow of Trane."
   ]
  },
  {
   "cell_type": "markdown",
   "metadata": {},
   "source": [
    "### Get Example Dataset\n",
    "[Download a synthetic taxi dataset here](https://s3.amazonaws.com/hdi-demos/trane-demo/taxi_data.zip). Unzip the file and get the folder with the raw data `synthetic_taxi_data.csv` and the table metadata `taxi_meta.json`. Put the folder `taxi_data` in Trane or set the correct path in the cell below. "
   ]
  },
  {
   "cell_type": "markdown",
   "metadata": {},
   "source": [
    "### Generate Prediction Problems\n",
    "We first import trane and other packages. We set data path and other parameters. "
   ]
  },
  {
   "cell_type": "code",
   "execution_count": 4,
   "metadata": {},
   "outputs": [],
   "source": [
    "import trane\n",
    "import json\n",
    "\n",
    "multiple_csv = [\"taxi_data/synthetic_taxi_data.csv\"] # path to multiple csv tables.\n",
    "table_meta_json = \"taxi_data/taxi_meta.json\"         # path to table metadata. \n",
    "\n",
    "entity_id_column = 'taxi_id'        # Trane will generate a label of each entity in the entity_id_column.\n",
    "label_generating_column = 'fare'    # Trane will use data in label_generating_column to generate labels. \n",
    "time_column = 'trip_id'             # time_column is used for cutoff time. "
   ]
  },
  {
   "cell_type": "markdown",
   "metadata": {},
   "source": [
    "We load table metadata, then create a PredictionProblemGenerator."
   ]
  },
  {
   "cell_type": "code",
   "execution_count": 5,
   "metadata": {},
   "outputs": [
    {
     "ename": "TypeError",
     "evalue": "list indices must be integers or slices, not str",
     "output_type": "error",
     "traceback": [
      "\u001b[0;31m---------------------------------------------------------------------------\u001b[0m",
      "\u001b[0;31mTypeError\u001b[0m                                 Traceback (most recent call last)",
      "\u001b[0;32m<ipython-input-5-56239a8004ac>\u001b[0m in \u001b[0;36m<module>\u001b[0;34m()\u001b[0m\n\u001b[0;32m----> 1\u001b[0;31m \u001b[0mtable_meta\u001b[0m \u001b[0;34m=\u001b[0m \u001b[0mtrane\u001b[0m\u001b[0;34m.\u001b[0m\u001b[0mTableMeta\u001b[0m\u001b[0;34m(\u001b[0m\u001b[0mjson\u001b[0m\u001b[0;34m.\u001b[0m\u001b[0mloads\u001b[0m\u001b[0;34m(\u001b[0m\u001b[0mopen\u001b[0m\u001b[0;34m(\u001b[0m\u001b[0mtable_meta_json\u001b[0m\u001b[0;34m)\u001b[0m\u001b[0;34m.\u001b[0m\u001b[0mread\u001b[0m\u001b[0;34m(\u001b[0m\u001b[0;34m)\u001b[0m\u001b[0;34m)\u001b[0m\u001b[0;34m)\u001b[0m\u001b[0;34m\u001b[0m\u001b[0m\n\u001b[0m\u001b[1;32m      2\u001b[0m \u001b[0mgenerator\u001b[0m \u001b[0;34m=\u001b[0m \u001b[0mtrane\u001b[0m\u001b[0;34m.\u001b[0m\u001b[0mPredictionProblemGenerator\u001b[0m\u001b[0;34m(\u001b[0m\u001b[0mtable_meta\u001b[0m\u001b[0;34m,\u001b[0m \u001b[0mentity_id_column\u001b[0m\u001b[0;34m,\u001b[0m \u001b[0mlabel_generating_column\u001b[0m\u001b[0;34m,\u001b[0m \u001b[0mtime_column\u001b[0m\u001b[0;34m)\u001b[0m\u001b[0;34m\u001b[0m\u001b[0m\n",
      "\u001b[0;32m~/Documents/Trane__HDI_REPO/trane/utils/table_meta.py\u001b[0m in \u001b[0;36m__init__\u001b[0;34m(self, table_meta)\u001b[0m\n\u001b[1;32m     36\u001b[0m         \u001b[0mself\u001b[0m\u001b[0;34m.\u001b[0m\u001b[0mtable_meta\u001b[0m \u001b[0;34m=\u001b[0m \u001b[0mtable_meta\u001b[0m\u001b[0;34m.\u001b[0m\u001b[0mcopy\u001b[0m\u001b[0;34m(\u001b[0m\u001b[0;34m)\u001b[0m\u001b[0;34m\u001b[0m\u001b[0m\n\u001b[1;32m     37\u001b[0m         \u001b[0mself\u001b[0m\u001b[0;34m.\u001b[0m\u001b[0mall_columns\u001b[0m \u001b[0;34m=\u001b[0m \u001b[0;34m{\u001b[0m\u001b[0;34m}\u001b[0m\u001b[0;34m\u001b[0m\u001b[0m\n\u001b[0;32m---> 38\u001b[0;31m         \u001b[0;32mfor\u001b[0m \u001b[0mtable_id\u001b[0m\u001b[0;34m,\u001b[0m \u001b[0mtable\u001b[0m \u001b[0;32min\u001b[0m \u001b[0menumerate\u001b[0m\u001b[0;34m(\u001b[0m\u001b[0mself\u001b[0m\u001b[0;34m.\u001b[0m\u001b[0mtable_meta\u001b[0m\u001b[0;34m[\u001b[0m\u001b[0;34m'tables'\u001b[0m\u001b[0;34m]\u001b[0m\u001b[0;34m)\u001b[0m\u001b[0;34m:\u001b[0m\u001b[0;34m\u001b[0m\u001b[0m\n\u001b[0m\u001b[1;32m     39\u001b[0m             \u001b[0;32mfor\u001b[0m \u001b[0mfield_id\u001b[0m\u001b[0;34m,\u001b[0m \u001b[0mfield\u001b[0m \u001b[0;32min\u001b[0m \u001b[0menumerate\u001b[0m\u001b[0;34m(\u001b[0m\u001b[0mtable\u001b[0m\u001b[0;34m[\u001b[0m\u001b[0;34m'fields'\u001b[0m\u001b[0;34m]\u001b[0m\u001b[0;34m)\u001b[0m\u001b[0;34m:\u001b[0m\u001b[0;34m\u001b[0m\u001b[0m\n\u001b[1;32m     40\u001b[0m                 self.all_columns[field['name']] = {\n",
      "\u001b[0;31mTypeError\u001b[0m: list indices must be integers or slices, not str"
     ]
    }
   ],
   "source": [
    "table_meta = trane.TableMeta(json.loads(open(table_meta_json).read()))\n",
    "generator = trane.PredictionProblemGenerator(table_meta, entity_id_column, label_generating_column, time_column)\n"
   ]
  },
  {
   "cell_type": "markdown",
   "metadata": {},
   "source": [
    "We use the generator to generate 3 prediction problems. "
   ]
  },
  {
   "cell_type": "code",
   "execution_count": 3,
   "metadata": {
    "collapsed": true
   },
   "outputs": [],
   "source": [
    "probs = []\n",
    "for idx, prob in enumerate(generator.generate()):\n",
    "    probs.append(prob)\n",
    "    if idx + 1 == 3:\n",
    "        break"
   ]
  },
  {
   "cell_type": "markdown",
   "metadata": {},
   "source": [
    "We save prediction problems in to `prediction_problems.json`"
   ]
  },
  {
   "cell_type": "code",
   "execution_count": 4,
   "metadata": {},
   "outputs": [
    {
     "data": {
      "text/plain": [
       "['For each taxi_id, predict the first fare, after trip_id 0.',\n",
       " 'For each taxi_id, predict the first fare, after trip_id 0.',\n",
       " 'For each taxi_id, predict the first fare, after trip_id 0.']"
      ]
     },
     "execution_count": 4,
     "metadata": {},
     "output_type": "execute_result"
    }
   ],
   "source": [
    "prediction_problems_json = trane.prediction_problems_to_json_file(\n",
    "    probs, table_meta, entity_id_column, label_generating_column, time_column, \"prediction_problems.json\")\n",
    "\n",
    "trane.generate_nl_description(\n",
    "    probs, table_meta, entity_id_column, label_generating_column, time_column, trane.ConstantIntegerCutoffTimes(0))\n",
    "\n",
    "# with open(\"prediction_problems.json\", \"w\") as f:\n",
    "#     json.dump(json.loads(prediction_problems_json), f, indent=4, separators=(',', ': '))"
   ]
  },
  {
   "cell_type": "markdown",
   "metadata": {},
   "source": [
    "### Check Prediction Problems and Tune HyperParameters\n",
    "Now we should check saved prediction problems and set thresholds in field `param_values` for some operations.\n",
    "\n",
    "Here is the truncated output. \n",
    "```\n",
    "{\n",
    "    \"entity_id_column\": \"taxi_id\",\n",
    "    \"time_column\": \"trip_id\",\n",
    "    \"table_meta\": ...,\n",
    "    \"prediction_problems\": [\n",
    "        {\n",
    "            \"operations\": [\n",
    "                {\n",
    "                    \"SubopType\": \"AllFilterOp\",\n",
    "                    \"OpType\": \"FilterOpBase\",\n",
    "                    \"param_values\": {},\n",
    "                    \"column_name\": \"duration\",\n",
    "                    \"iotype\": [\n",
    "                        \"value\",\n",
    "                        \"value\"\n",
    "                    ]\n",
    "                },\n",
    "                {\n",
    "                    \"SubopType\": \"IdentityRowOp\",\n",
    "                    \"OpType\": \"RowOpBase\",\n",
    "                    \"param_values\": {},\n",
    "                    \"column_name\": \"fare\",\n",
    "                    \"iotype\": [\n",
    "                        \"value\",\n",
    "                        \"value\"\n",
    "                    ]\n",
    "                },\n",
    "                {\n",
    "                    \"SubopType\": \"IdentityTransformationOp\",\n",
    "                    \"OpType\": \"TransformationOpBase\",\n",
    "                    \"param_values\": {},\n",
    "                    \"column_name\": \"fare\",\n",
    "                    \"iotype\": [\n",
    "                        \"value\",\n",
    "                        \"value\"\n",
    "                    ]\n",
    "                },\n",
    "                {\n",
    "                    \"SubopType\": \"FirstAggregationOp\",\n",
    "                    \"OpType\": \"AggregationOpBase\",\n",
    "                    \"param_values\": {},\n",
    "                    \"column_name\": \"fare\",\n",
    "                    \"iotype\": [\n",
    "                        \"value\",\n",
    "                        \"value\"\n",
    "                    ]\n",
    "                }\n",
    "            ]\n",
    "        }, ...\n",
    "    ],\n",
    "    \"label_generating_column\": \"fare\"\n",
    "}\n",
    "\n",
    "```"
   ]
  },
  {
   "cell_type": "markdown",
   "metadata": {},
   "source": [
    "### Load Problems and Generate Labels\n",
    "We load multiple csvs and denormalize them into a Pandas DataFrame. We group them by entity ids. \n",
    "We show the first 5 records of entity taxi 0."
   ]
  },
  {
   "cell_type": "code",
   "execution_count": 5,
   "metadata": {},
   "outputs": [
    {
     "data": {
      "text/html": [
       "<div>\n",
       "<style>\n",
       "    .dataframe thead tr:only-child th {\n",
       "        text-align: right;\n",
       "    }\n",
       "\n",
       "    .dataframe thead th {\n",
       "        text-align: left;\n",
       "    }\n",
       "\n",
       "    .dataframe tbody tr th {\n",
       "        vertical-align: top;\n",
       "    }\n",
       "</style>\n",
       "<table border=\"1\" class=\"dataframe\">\n",
       "  <thead>\n",
       "    <tr style=\"text-align: right;\">\n",
       "      <th></th>\n",
       "      <th>vendor_id</th>\n",
       "      <th>taxi_id</th>\n",
       "      <th>trip_id</th>\n",
       "      <th>distance</th>\n",
       "      <th>duration</th>\n",
       "      <th>fare</th>\n",
       "      <th>num_passengers</th>\n",
       "    </tr>\n",
       "  </thead>\n",
       "  <tbody>\n",
       "    <tr>\n",
       "      <th>0</th>\n",
       "      <td>0</td>\n",
       "      <td>0</td>\n",
       "      <td>0</td>\n",
       "      <td>4.97</td>\n",
       "      <td>16.53</td>\n",
       "      <td>46.80</td>\n",
       "      <td>3</td>\n",
       "    </tr>\n",
       "    <tr>\n",
       "      <th>1</th>\n",
       "      <td>0</td>\n",
       "      <td>0</td>\n",
       "      <td>1</td>\n",
       "      <td>6.00</td>\n",
       "      <td>16.82</td>\n",
       "      <td>49.60</td>\n",
       "      <td>4</td>\n",
       "    </tr>\n",
       "    <tr>\n",
       "      <th>2</th>\n",
       "      <td>0</td>\n",
       "      <td>0</td>\n",
       "      <td>2</td>\n",
       "      <td>0.68</td>\n",
       "      <td>11.70</td>\n",
       "      <td>27.87</td>\n",
       "      <td>1</td>\n",
       "    </tr>\n",
       "    <tr>\n",
       "      <th>3</th>\n",
       "      <td>0</td>\n",
       "      <td>0</td>\n",
       "      <td>3</td>\n",
       "      <td>7.75</td>\n",
       "      <td>11.69</td>\n",
       "      <td>43.12</td>\n",
       "      <td>1</td>\n",
       "    </tr>\n",
       "    <tr>\n",
       "      <th>4</th>\n",
       "      <td>0</td>\n",
       "      <td>0</td>\n",
       "      <td>4</td>\n",
       "      <td>6.05</td>\n",
       "      <td>13.32</td>\n",
       "      <td>42.71</td>\n",
       "      <td>4</td>\n",
       "    </tr>\n",
       "  </tbody>\n",
       "</table>\n",
       "</div>"
      ],
      "text/plain": [
       "   vendor_id  taxi_id  trip_id  distance  duration   fare  num_passengers\n",
       "0          0        0        0      4.97     16.53  46.80               3\n",
       "1          0        0        1      6.00     16.82  49.60               4\n",
       "2          0        0        2      0.68     11.70  27.87               1\n",
       "3          0        0        3      7.75     11.69  43.12               1\n",
       "4          0        0        4      6.05     13.32  42.71               4"
      ]
     },
     "execution_count": 5,
     "metadata": {},
     "output_type": "execute_result"
    }
   ],
   "source": [
    "denormalized_dataframe = trane.csv_to_df(multiple_csv)\n",
    "entity_to_data_dict = trane.df_group_by_entity_id(denormalized_dataframe, entity_id_column)\n",
    "entity_to_data_dict[0].head(5)"
   ]
  },
  {
   "cell_type": "markdown",
   "metadata": {},
   "source": [
    "We apply a cutoff strategy. Here we simple use fixed cuttoff time. The cutoff time for all entities are 0."
   ]
  },
  {
   "cell_type": "code",
   "execution_count": 6,
   "metadata": {
    "collapsed": true
   },
   "outputs": [],
   "source": [
    "entity_to_data_and_cutoff_dict = trane.ConstantIntegerCutoffTimes(0).generate_cutoffs(entity_to_data_dict)"
   ]
  },
  {
   "cell_type": "markdown",
   "metadata": {},
   "source": [
    "Create a labeler and generate labels. "
   ]
  },
  {
   "cell_type": "code",
   "execution_count": 7,
   "metadata": {},
   "outputs": [
    {
     "data": {
      "text/plain": [
       "{0: ([49.6, 49.6, 49.6], 0),\n",
       " 1: ([20.45, 20.45, 20.45], 0),\n",
       " 2: ([61.6, 61.6, 61.6], 0),\n",
       " 3: ([58.52, 58.52, 58.52], 0),\n",
       " 4: ([42.1, 42.1, 42.1], 0),\n",
       " 5: ([58.66, 58.66, 58.66], 0),\n",
       " 6: ([34.5, 34.5, 34.5], 0),\n",
       " 7: ([34.05, 34.05, 34.05], 0),\n",
       " 8: ([54.3, 54.3, 54.3], 0),\n",
       " 9: ([44.55, 44.55, 44.55], 0),\n",
       " 10: ([62.88, 62.88, 62.88], 0),\n",
       " 11: ([30.83, 30.83, 30.83], 0),\n",
       " 12: ([29.7, 29.7, 29.7], 0),\n",
       " 13: ([50.56, 50.56, 50.56], 0),\n",
       " 14: ([43.73, 43.73, 43.73], 0),\n",
       " 15: ([29.93, 29.93, 29.93], 0),\n",
       " 16: ([43.91, 43.91, 43.91], 0),\n",
       " 17: ([34.35, 34.35, 34.35], 0),\n",
       " 18: ([63.63, 63.63, 63.63], 0),\n",
       " 19: ([51.86, 51.86, 51.86], 0),\n",
       " 20: ([55.33, 55.33, 55.33], 0),\n",
       " 21: ([59.03, 59.03, 59.03], 0),\n",
       " 22: ([53.36, 53.36, 53.36], 0),\n",
       " 23: ([38.05, 38.05, 38.05], 0),\n",
       " 24: ([42.9, 42.9, 42.9], 0),\n",
       " 25: ([27.53, 27.53, 27.53], 0),\n",
       " 26: ([42.63, 42.63, 42.63], 0),\n",
       " 27: ([62.42, 62.42, 62.42], 0),\n",
       " 28: ([38.45, 38.45, 38.45], 0),\n",
       " 29: ([60.36, 60.36, 60.36], 0),\n",
       " 30: ([50.59, 50.59, 50.59], 0),\n",
       " 31: ([49.32, 49.32, 49.32], 0),\n",
       " 32: ([41.26, 41.26, 41.26], 0),\n",
       " 33: ([37.43, 37.43, 37.43], 0),\n",
       " 34: ([36.96, 36.96, 36.96], 0),\n",
       " 35: ([44.48, 44.48, 44.48], 0),\n",
       " 36: ([49.36, 49.36, 49.36], 0),\n",
       " 37: ([31.02, 31.02, 31.02], 0),\n",
       " 38: ([37.65, 37.65, 37.65], 0),\n",
       " 39: ([42.44, 42.44, 42.44], 0)}"
      ]
     },
     "execution_count": 7,
     "metadata": {},
     "output_type": "execute_result"
    }
   ],
   "source": [
    "labeler = trane.Labeler()\n",
    "output = labeler.execute(entity_to_data_and_cutoff_dict, \"prediction_problems.json\")\n",
    "output"
   ]
  },
  {
   "cell_type": "code",
   "execution_count": null,
   "metadata": {
    "collapsed": true
   },
   "outputs": [],
   "source": []
  }
 ],
 "metadata": {
  "kernelspec": {
   "display_name": "Python 3",
   "language": "python",
   "name": "python3"
  },
  "language_info": {
   "codemirror_mode": {
    "name": "ipython",
    "version": 3
   },
   "file_extension": ".py",
   "mimetype": "text/x-python",
   "name": "python",
   "nbconvert_exporter": "python",
   "pygments_lexer": "ipython3",
   "version": "3.6.1"
  }
 },
 "nbformat": 4,
 "nbformat_minor": 2
}
