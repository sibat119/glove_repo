{
 "cells": [
  {
   "cell_type": "code",
   "execution_count": 1,
   "metadata": {},
   "outputs": [],
   "source": [
    "import sys\n",
    "#Path to Trane for imports\n",
    "sys.path.append('/Users/Alexander/Documents/Trane/Trane__HDI_REPO')\n",
    "import pandas as pd\n",
    "import trane\n",
    "import json\n",
    "import random\n",
    "import pickle\n"
   ]
  },
  {
   "cell_type": "code",
   "execution_count": 2,
   "metadata": {},
   "outputs": [],
   "source": [
    "def file_to_table_meta(filepath):\n",
    "    return trane.TableMeta(json.loads(open(filepath).read()))"
   ]
  },
  {
   "cell_type": "code",
   "execution_count": 3,
   "metadata": {},
   "outputs": [],
   "source": [
    "#IMPORT DATA\n",
    "path_to_datasets = '../Trane__Local_Misc/Formatted Datasets/'\n",
    "taxi_data_df = pd.read_csv(path_to_datasets + 'NYC Taxi/taxi.csv')\n",
    "taxi_table_meta = file_to_table_meta(path_to_datasets + 'NYC Taxi/taxi_meta.json')\n",
    "\n",
    "yelp_review_data_df = pd.read_csv(path_to_datasets + 'Yelp Reviews/yelp_review_sampled.csv')\n",
    "yelp_table_meta = file_to_table_meta(path_to_datasets + 'Yelp Reviews/yelp_review_meta.json')\n",
    "\n",
    "github_data_df = pd.read_csv(path_to_datasets + 'Github/github_archive.csv')\n",
    "github_table_meta = file_to_table_meta(path_to_datasets + 'Github/github_meta.json')\n",
    "\n",
    "saudi_er_data_df = pd.read_csv(path_to_datasets + 'Saudi ER/ER.csv')\n",
    "saudi_er_table_meta = file_to_table_meta(path_to_datasets + 'Saudi ER/ER_table_meta.json')"
   ]
  },
  {
   "cell_type": "code",
   "execution_count": 4,
   "metadata": {},
   "outputs": [],
   "source": [
    "NUM_PROBLEMS_TO_GENERATE = 100"
   ]
  },
  {
   "cell_type": "code",
   "execution_count": 5,
   "metadata": {},
   "outputs": [],
   "source": [
    "def generate_probs_and_nl(entity_id_column,\n",
    "                            label_generating_column,\n",
    "                            time_column,\n",
    "                            table_meta,\n",
    "                            filter_column,\n",
    "                            is_pick_random_problems = True):\n",
    "    generator = trane.PredictionProblemGenerator(table_meta, entity_id_column, label_generating_column, time_column, filter_column)\n",
    "    probs = []\n",
    "\n",
    "    all_probs = list(generator.generate())\n",
    "\n",
    "    if is_pick_random_problems:\n",
    "        random.shuffle(all_probs)\n",
    "\n",
    "    for idx, prob in enumerate(all_probs):\n",
    "        probs.append(prob)\n",
    "        if idx + 1 == NUM_PROBLEMS_TO_GENERATE:\n",
    "            break\n",
    "    prediction_problems_json = trane.prediction_problems_to_json_file(\n",
    "        probs, table_meta, entity_id_column, label_generating_column, time_column, \"prediction_problems.json\")\n",
    "\n",
    "    nl_descrips = trane.generate_nl_description(\n",
    "        probs, table_meta, entity_id_column, label_generating_column, time_column, trane.ConstantIntegerCutoffTimes(0))\n",
    "    return probs, nl_descrips\n",
    "def save_obj(obj, name):\n",
    "    with open('pickled_objects/'+ name + '.pkl', 'wb') as f:\n",
    "        pickle.dump(obj, f, pickle.HIGHEST_PROTOCOL)\n",
    "def load_obj(name):\n",
    "    with open('pickled_objects/' + name + '.pkl', 'rb') as f:\n",
    "        return pickle.load(f)"
   ]
  },
  {
   "cell_type": "markdown",
   "metadata": {},
   "source": [
    "# Taxi Data\n",
    "Below, is the code to generate prediction problems and natural language descriptions from the taxi dataset."
   ]
  },
  {
   "cell_type": "code",
   "execution_count": 6,
   "metadata": {},
   "outputs": [
    {
     "name": "stdout",
     "output_type": "stream",
     "text": [
      "['For each id, predict the last minus firstNone passenger_count is not equal to 0, after pickup_datetime 0.', 'For each id, predict whether the {op} passenger_count is greater than 0, after pickup_datetime 0.', 'For each id, predict the number of records, after pickup_datetime 0.', 'For each id, predict the last minus firstNone the exp of passenger_count, after pickup_datetime 0.', 'For each id, predict the last minus firstNone passenger_count is less than 0, after pickup_datetime 0.', 'For each id, predict the last the fluctuation of passenger_count, after pickup_datetime 0.', 'For each id, predict the number of records, after pickup_datetime 0.', 'For each id, predict the first the fluctuation of the exp of passenger_count, after pickup_datetime 0.', 'For each id, predict the lastNone passenger_count, after pickup_datetime 0.', 'For each id, predict the sum ofNone passenger_count is equal to 0, after pickup_datetime 0.', 'For each id, predict whether the {op} records, after pickup_datetime 0.', 'For each id, predict the sum of passenger_count, after pickup_datetime 0.', 'For each id, predict the firstNone passenger_count is not equal to 0, after pickup_datetime 0.', 'For each id, predict the number of records whose passenger_count is greater than 0, after pickup_datetime 0.', 'For each id, predict the sum ofNone passenger_count is less than 0, after pickup_datetime 0.', 'For each id, predict the number of records, after pickup_datetime 0.', 'For each id, predict the first the exp of passenger_count, after pickup_datetime 0.', 'For each id, predict whether the {op} records, after pickup_datetime 0.', 'For each id, predict the number of records, after pickup_datetime 0.', 'For each id, predict the number of records, after pickup_datetime 0.', 'For each id, predict the firstNone passenger_count is equal to 0, after pickup_datetime 0.', 'For each id, predict the lastNone passenger_count is equal to 0, after pickup_datetime 0.', 'For each id, predict the sum of the fluctuation of passenger_count, after pickup_datetime 0.', 'For each id, predict the last the exp of passenger_count, after pickup_datetime 0.', 'For each id, predict the sum ofNone the exp of passenger_count, after pickup_datetime 0.', 'For each id, predict whether the {op} records, after pickup_datetime 0.', 'For each id, predict the number of records whose passenger_count is less than 0, after pickup_datetime 0.', 'For each id, predict the sum ofNone passenger_count, after pickup_datetime 0.', 'For each id, predict the first the fluctuation of passenger_count, after pickup_datetime 0.', 'For each id, predict whether the {op} passenger_count is less than 0, after pickup_datetime 0.', 'For each id, predict the number of records, after pickup_datetime 0.', 'For each id, predict the last the fluctuation of the exp of passenger_count, after pickup_datetime 0.', 'For each id, predict the last passenger_count, after pickup_datetime 0.', 'For each id, predict the sum of the fluctuation of the exp of passenger_count, after pickup_datetime 0.', 'For each id, predict whether the {op} passenger_count is greater than 0, after pickup_datetime 0.', 'For each id, predict the last minus firstNone passenger_count, after pickup_datetime 0.', 'For each id, predict the sum ofNone passenger_count is not equal to 0, after pickup_datetime 0.', 'For each id, predict the firstNone passenger_count is greater than 0, after pickup_datetime 0.', 'For each id, predict the last minus first the fluctuation of the exp of passenger_count, after pickup_datetime 0.', 'For each id, predict the last minus first passenger_count, after pickup_datetime 0.', 'For each id, predict the number of records whose passenger_count is equal to 0, after pickup_datetime 0.', 'For each id, predict the firstNone passenger_count is less than 0, after pickup_datetime 0.', 'For each id, predict the number of records, after pickup_datetime 0.', 'For each id, predict whether the {op} passenger_count is equal to 0, after pickup_datetime 0.', 'For each id, predict the number of records, after pickup_datetime 0.', 'For each id, predict the number of records, after pickup_datetime 0.', 'For each id, predict whether the {op} passenger_count is equal to 0, after pickup_datetime 0.', 'For each id, predict the sum of the exp of passenger_count, after pickup_datetime 0.', 'For each id, predict the number of records whose passenger_count is not equal to 0, after pickup_datetime 0.', 'For each id, predict the lastNone the exp of passenger_count, after pickup_datetime 0.', 'For each id, predict the lastNone passenger_count is less than 0, after pickup_datetime 0.', 'For each id, predict the last minus first the exp of passenger_count, after pickup_datetime 0.', 'For each id, predict the lastNone passenger_count is greater than 0, after pickup_datetime 0.', 'For each id, predict the lastNone passenger_count is not equal to 0, after pickup_datetime 0.', 'For each id, predict the firstNone passenger_count, after pickup_datetime 0.', 'For each id, predict whether the {op} passenger_count is not equal to 0, after pickup_datetime 0.', 'For each id, predict whether the {op} passenger_count is less than 0, after pickup_datetime 0.', 'For each id, predict the last minus firstNone passenger_count is equal to 0, after pickup_datetime 0.', 'For each id, predict whether the {op} passenger_count is not equal to 0, after pickup_datetime 0.', 'For each id, predict the sum ofNone passenger_count is greater than 0, after pickup_datetime 0.', 'For each id, predict the number of records, after pickup_datetime 0.', 'For each id, predict the last minus firstNone passenger_count is greater than 0, after pickup_datetime 0.', 'For each id, predict the last minus first the fluctuation of passenger_count, after pickup_datetime 0.', 'For each id, predict the firstNone the exp of passenger_count, after pickup_datetime 0.', 'For each id, predict the first passenger_count, after pickup_datetime 0.', 'For each id, predict whether the {op} records, after pickup_datetime 0.']\n"
     ]
    }
   ],
   "source": [
    "entity_id_column = 'id'\n",
    "label_generating_column = 'passenger_count'\n",
    "time_column = 'pickup_datetime'\n",
    "filter_column = 'id'\n",
    "table_meta = taxi_table_meta\n",
    "probs, nl_descrips = generate_probs_and_nl(entity_id_column, label_generating_column,\n",
    "                     time_column, table_meta, filter_column)\n",
    "print(nl_descrips)\n"
   ]
  },
  {
   "cell_type": "markdown",
   "metadata": {},
   "source": [
    "# Yelp Data\n",
    "Below, is the code to generate prediction problems and natural language descriptions from the yelp dataset."
   ]
  },
  {
   "cell_type": "code",
   "execution_count": 7,
   "metadata": {},
   "outputs": [],
   "source": [
    "entity_id_column = 'user_id'\n",
    "label_generating_column = 'stars'\n",
    "time_column = 'date'\n",
    "filter_column = 'user_id'\n",
    "table_meta = yelp_table_meta\n",
    "probs, nl_descrips = generate_probs_and_nl(entity_id_column, label_generating_column,\n",
    "                     time_column, table_meta, filter_column)\n"
   ]
  },
  {
   "cell_type": "code",
   "execution_count": 24,
   "metadata": {},
   "outputs": [
    {
     "name": "stdout",
     "output_type": "stream",
     "text": [
      "AllFilterOp(user_id)->IdentityRowOp(stars)->DiffTransformationOp(stars)->SumAggregationOp(stars)\n"
     ]
    }
   ],
   "source": [
    "# print(nl_descrips)\n",
    "# for idx, prob in enumerate(probs):\n",
    "#     print(prob)\n",
    "#     print(idx)\n",
    "# print(probs[12])\n",
    "# save_obj(probs[12], \"yelp_prediction_problem\")\n",
    "print(load_obj(\"yelp_prediction_problem\"))"
   ]
  },
  {
   "cell_type": "markdown",
   "metadata": {},
   "source": [
    "# Github Data\n",
    "Below, is the code to generate prediction problems and natural language descriptions from the github dataset."
   ]
  },
  {
   "cell_type": "code",
   "execution_count": 8,
   "metadata": {},
   "outputs": [
    {
     "ename": "KeyError",
     "evalue": "'user_id'",
     "output_type": "error",
     "traceback": [
      "\u001b[0;31m---------------------------------------------------------------------------\u001b[0m",
      "\u001b[0;31mKeyError\u001b[0m                                  Traceback (most recent call last)",
      "\u001b[0;32m<ipython-input-8-969741709fe0>\u001b[0m in \u001b[0;36m<module>\u001b[0;34m()\u001b[0m\n\u001b[1;32m      5\u001b[0m \u001b[0mtable_meta\u001b[0m \u001b[0;34m=\u001b[0m \u001b[0mgithub_table_meta\u001b[0m\u001b[0;34m\u001b[0m\u001b[0m\n\u001b[1;32m      6\u001b[0m probs, nl_descrips = generate_probs_and_nl(entity_id_column, label_generating_column,\n\u001b[0;32m----> 7\u001b[0;31m                      time_column, table_meta, filter_column)\n\u001b[0m\u001b[1;32m      8\u001b[0m \u001b[0mprint\u001b[0m\u001b[0;34m(\u001b[0m\u001b[0mnl_descrips\u001b[0m\u001b[0;34m)\u001b[0m\u001b[0;34m\u001b[0m\u001b[0m\n",
      "\u001b[0;32m<ipython-input-5-4bb0030e671c>\u001b[0m in \u001b[0;36mgenerate_probs_and_nl\u001b[0;34m(entity_id_column, label_generating_column, time_column, table_meta, filter_column, is_pick_random_problems)\u001b[0m\n\u001b[1;32m      8\u001b[0m     \u001b[0mprobs\u001b[0m \u001b[0;34m=\u001b[0m \u001b[0;34m[\u001b[0m\u001b[0;34m]\u001b[0m\u001b[0;34m\u001b[0m\u001b[0m\n\u001b[1;32m      9\u001b[0m \u001b[0;34m\u001b[0m\u001b[0m\n\u001b[0;32m---> 10\u001b[0;31m     \u001b[0mall_probs\u001b[0m \u001b[0;34m=\u001b[0m \u001b[0mlist\u001b[0m\u001b[0;34m(\u001b[0m\u001b[0mgenerator\u001b[0m\u001b[0;34m.\u001b[0m\u001b[0mgenerate\u001b[0m\u001b[0;34m(\u001b[0m\u001b[0;34m)\u001b[0m\u001b[0;34m)\u001b[0m\u001b[0;34m\u001b[0m\u001b[0m\n\u001b[0m\u001b[1;32m     11\u001b[0m \u001b[0;34m\u001b[0m\u001b[0m\n\u001b[1;32m     12\u001b[0m     \u001b[0;32mif\u001b[0m \u001b[0mis_pick_random_problems\u001b[0m\u001b[0;34m:\u001b[0m\u001b[0;34m\u001b[0m\u001b[0m\n",
      "\u001b[0;32m~/Documents/Trane/Trane__HDI_REPO/trane/core/prediction_problem_generator.py\u001b[0m in \u001b[0;36mgenerate\u001b[0;34m(self)\u001b[0m\n\u001b[1;32m     71\u001b[0m             \u001b[0mprediction_problem\u001b[0m\u001b[0;34m.\u001b[0m\u001b[0mset_thresholds\u001b[0m\u001b[0;34m(\u001b[0m\u001b[0mself\u001b[0m\u001b[0;34m.\u001b[0m\u001b[0mtable_meta\u001b[0m\u001b[0;34m)\u001b[0m\u001b[0;34m\u001b[0m\u001b[0m\n\u001b[1;32m     72\u001b[0m \u001b[0;34m\u001b[0m\u001b[0m\n\u001b[0;32m---> 73\u001b[0;31m             \u001b[0;32mif\u001b[0m \u001b[0;32mnot\u001b[0m \u001b[0mprediction_problem\u001b[0m\u001b[0;34m.\u001b[0m\u001b[0mop_type_check\u001b[0m\u001b[0;34m(\u001b[0m\u001b[0mself\u001b[0m\u001b[0;34m.\u001b[0m\u001b[0mtable_meta\u001b[0m\u001b[0;34m)\u001b[0m\u001b[0;34m:\u001b[0m\u001b[0;34m\u001b[0m\u001b[0m\n\u001b[0m\u001b[1;32m     74\u001b[0m                 \u001b[0;32mcontinue\u001b[0m\u001b[0;34m\u001b[0m\u001b[0m\n\u001b[1;32m     75\u001b[0m \u001b[0;34m\u001b[0m\u001b[0m\n",
      "\u001b[0;32m~/Documents/Trane/Trane__HDI_REPO/trane/core/prediction_problem.py\u001b[0m in \u001b[0;36mop_type_check\u001b[0;34m(self, table_meta)\u001b[0m\n\u001b[1;32m     35\u001b[0m         \u001b[0mtemp_meta\u001b[0m \u001b[0;34m=\u001b[0m \u001b[0mtable_meta\u001b[0m\u001b[0;34m.\u001b[0m\u001b[0mcopy\u001b[0m\u001b[0;34m(\u001b[0m\u001b[0;34m)\u001b[0m\u001b[0;34m\u001b[0m\u001b[0m\n\u001b[1;32m     36\u001b[0m         \u001b[0;32mfor\u001b[0m \u001b[0mop\u001b[0m \u001b[0;32min\u001b[0m \u001b[0mself\u001b[0m\u001b[0;34m.\u001b[0m\u001b[0moperations\u001b[0m\u001b[0;34m:\u001b[0m\u001b[0;34m\u001b[0m\u001b[0m\n\u001b[0;32m---> 37\u001b[0;31m             \u001b[0mtemp_meta\u001b[0m \u001b[0;34m=\u001b[0m \u001b[0mop\u001b[0m\u001b[0;34m.\u001b[0m\u001b[0mop_type_check\u001b[0m\u001b[0;34m(\u001b[0m\u001b[0mtemp_meta\u001b[0m\u001b[0;34m)\u001b[0m\u001b[0;34m\u001b[0m\u001b[0m\n\u001b[0m\u001b[1;32m     38\u001b[0m             \u001b[0;32mif\u001b[0m \u001b[0;32mnot\u001b[0m \u001b[0mtemp_meta\u001b[0m\u001b[0;34m:\u001b[0m\u001b[0;34m\u001b[0m\u001b[0m\n\u001b[1;32m     39\u001b[0m                 \u001b[0;32mreturn\u001b[0m \u001b[0;32mFalse\u001b[0m\u001b[0;34m\u001b[0m\u001b[0m\n",
      "\u001b[0;32m~/Documents/Trane/Trane__HDI_REPO/trane/ops/op_base.py\u001b[0m in \u001b[0;36mop_type_check\u001b[0;34m(self, table_meta)\u001b[0m\n\u001b[1;32m     54\u001b[0m \u001b[0;34m\u001b[0m\u001b[0m\n\u001b[1;32m     55\u001b[0m         \"\"\"\n\u001b[0;32m---> 56\u001b[0;31m         \u001b[0mself\u001b[0m\u001b[0;34m.\u001b[0m\u001b[0mitype\u001b[0m \u001b[0;34m=\u001b[0m \u001b[0mtable_meta\u001b[0m\u001b[0;34m.\u001b[0m\u001b[0mget_type\u001b[0m\u001b[0;34m(\u001b[0m\u001b[0mself\u001b[0m\u001b[0;34m.\u001b[0m\u001b[0mcolumn_name\u001b[0m\u001b[0;34m)\u001b[0m\u001b[0;34m\u001b[0m\u001b[0m\n\u001b[0m\u001b[1;32m     57\u001b[0m         \u001b[0;32mfor\u001b[0m \u001b[0midx\u001b[0m\u001b[0;34m,\u001b[0m \u001b[0;34m(\u001b[0m\u001b[0mitype\u001b[0m\u001b[0;34m,\u001b[0m \u001b[0motype\u001b[0m\u001b[0;34m)\u001b[0m \u001b[0;32min\u001b[0m \u001b[0menumerate\u001b[0m\u001b[0;34m(\u001b[0m\u001b[0mself\u001b[0m\u001b[0;34m.\u001b[0m\u001b[0mIOTYPES\u001b[0m\u001b[0;34m)\u001b[0m\u001b[0;34m:\u001b[0m\u001b[0;34m\u001b[0m\u001b[0m\n\u001b[1;32m     58\u001b[0m             \u001b[0;32mif\u001b[0m \u001b[0mself\u001b[0m\u001b[0;34m.\u001b[0m\u001b[0mitype\u001b[0m \u001b[0;34m==\u001b[0m \u001b[0mitype\u001b[0m\u001b[0;34m:\u001b[0m\u001b[0;34m\u001b[0m\u001b[0m\n",
      "\u001b[0;32m~/Documents/Trane/Trane__HDI_REPO/trane/utils/table_meta.py\u001b[0m in \u001b[0;36mget_type\u001b[0;34m(self, column_name)\u001b[0m\n\u001b[1;32m     56\u001b[0m \u001b[0;34m\u001b[0m\u001b[0m\n\u001b[1;32m     57\u001b[0m         \"\"\"\n\u001b[0;32m---> 58\u001b[0;31m         \u001b[0;32mreturn\u001b[0m \u001b[0mself\u001b[0m\u001b[0;34m.\u001b[0m\u001b[0mall_columns\u001b[0m\u001b[0;34m[\u001b[0m\u001b[0mcolumn_name\u001b[0m\u001b[0;34m]\u001b[0m\u001b[0;34m[\u001b[0m\u001b[0;34m'type'\u001b[0m\u001b[0;34m]\u001b[0m\u001b[0;34m\u001b[0m\u001b[0m\n\u001b[0m\u001b[1;32m     59\u001b[0m \u001b[0;34m\u001b[0m\u001b[0m\n\u001b[1;32m     60\u001b[0m     \u001b[0;32mdef\u001b[0m \u001b[0mset_type\u001b[0m\u001b[0;34m(\u001b[0m\u001b[0mself\u001b[0m\u001b[0;34m,\u001b[0m \u001b[0mcolumn_name\u001b[0m\u001b[0;34m,\u001b[0m \u001b[0mdtype\u001b[0m\u001b[0;34m)\u001b[0m\u001b[0;34m:\u001b[0m\u001b[0;34m\u001b[0m\u001b[0m\n",
      "\u001b[0;31mKeyError\u001b[0m: 'user_id'"
     ]
    }
   ],
   "source": [
    "entity_id_column = 'actor'\n",
    "label_generating_column = 'repo'\n",
    "time_column = 'created_at'\n",
    "filter_column = 'user_id'\n",
    "table_meta = github_table_meta\n",
    "probs, nl_descrips = generate_probs_and_nl(entity_id_column, label_generating_column,\n",
    "                     time_column, table_meta, filter_column)\n",
    "print(nl_descrips)"
   ]
  },
  {
   "cell_type": "markdown",
   "metadata": {},
   "source": [
    "# Saudi ER Data\n",
    "Below, is the code to generate prediction problems and natural language descriptions from the Saudi ER Dataset."
   ]
  },
  {
   "cell_type": "code",
   "execution_count": 10,
   "metadata": {},
   "outputs": [
    {
     "name": "stdout",
     "output_type": "stream",
     "text": [
      "['For each PATIENT_ID, predict the firstNone HOSP_CODE is less than 0, after TIME_ARRIVED 0.', 'For each PATIENT_ID, predict the last HOSP_CODE is equal to 0, with PATIENT_ID not equal to 0, after TIME_ARRIVED 0.', 'For each PATIENT_ID, predict the last minus first the exp of HOSP_CODE, with PATIENT_ID equal to 0, after TIME_ARRIVED 0.', 'For each PATIENT_ID, predict the last minus first the fluctuation of HOSP_CODE is less than 0, after TIME_ARRIVED 0.', 'For each PATIENT_ID, predict the firstNone HOSP_CODE, with PATIENT_ID greater than 0, after TIME_ARRIVED 0.', 'For each PATIENT_ID, predict the sum ofNone HOSP_CODE, after TIME_ARRIVED 0.', 'For each PATIENT_ID, predict the first HOSP_CODE is less than 0, with PATIENT_ID greater than 0, after TIME_ARRIVED 0.', 'For each PATIENT_ID, predict the last minus first the fluctuation of HOSP_CODE is less than 0, with PATIENT_ID less than 0, after TIME_ARRIVED 0.', 'For each PATIENT_ID, predict the last HOSP_CODE is not equal to 0, with PATIENT_ID not equal to 0, after TIME_ARRIVED 0.', 'For each PATIENT_ID, predict the sum of the exp of HOSP_CODE, with PATIENT_ID equal to 0, after TIME_ARRIVED 0.']\n"
     ]
    }
   ],
   "source": [
    "entity_id_column = 'PATIENT_ID'\n",
    "label_generating_column = 'HOSP_CODE'\n",
    "time_column = 'TIME_ARRIVED'\n",
    "filter_column = 'PATIENT_ID'\n",
    "table_meta = saudi_er_table_meta\n",
    "probs, nl_descrips = generate_probs_and_nl(entity_id_column, label_generating_column,\n",
    "                     time_column, table_meta, filter_column)\n",
    "print(nl_descrips)"
   ]
  }
 ],
 "metadata": {
  "kernelspec": {
   "display_name": "Python 3",
   "language": "python",
   "name": "python3"
  },
  "language_info": {
   "codemirror_mode": {
    "name": "ipython",
    "version": 3
   },
   "file_extension": ".py",
   "mimetype": "text/x-python",
   "name": "python",
   "nbconvert_exporter": "python",
   "pygments_lexer": "ipython3",
   "version": "3.6.1"
  }
 },
 "nbformat": 4,
 "nbformat_minor": 2
}
