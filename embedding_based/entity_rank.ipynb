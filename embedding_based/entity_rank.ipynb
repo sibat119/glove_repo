{
 "cells": [
  {
   "cell_type": "code",
   "execution_count": 1,
   "metadata": {},
   "outputs": [],
   "source": [
    "import numpy as np\n",
    "from scipy import spatial\n",
    "import matplotlib.pyplot as plt\n",
    "from collections import namedtuple\n",
    "from operator import attrgetter\n",
    "\n",
    "rankTuple = namedtuple('word', 'word distance')"
   ]
  },
  {
   "cell_type": "code",
   "execution_count": 2,
   "metadata": {},
   "outputs": [
    {
     "name": "stdout",
     "output_type": "stream",
     "text": [
      "400000\n",
      "400000\n"
     ]
    }
   ],
   "source": [
    "embeddings_dict = {}\n",
    "words = {}\n",
    "i = 0\n",
    "glove_data = '../glove.6B.200d.txt'\n",
    "f = open(glove_data, encoding=\"utf8\")\n",
    "for line in f:\n",
    "    values = line.split()\n",
    "    word = values[0]\n",
    "    words[i] = word\n",
    "    vector = np.asarray(values[1:], \"float32\")\n",
    "    embeddings_dict[word] = vector\n",
    "    i += 1\n",
    "\n",
    "print(len(words))\n",
    "print(len(embeddings_dict))\n"
   ]
  },
  {
   "cell_type": "code",
   "execution_count": 3,
   "metadata": {},
   "outputs": [],
   "source": [
    "def find_closest_embeddings_euclidean(vector_map, embedding):\n",
    "    return sorted(vector_map.keys(), key=lambda word: spatial.distance.euclidean(vector_map[word], embedding))\n",
    "\n",
    "def find_closest_with_distance_euclidean(vector_map, embedding):\n",
    "    rank_val_attr_map = []\n",
    "    for key, val in vector_map.items():\n",
    "        distance = spatial.distance.euclidean(val, embedding)\n",
    "        rtuple = rankTuple(key, distance)\n",
    "        rank_val_attr_map.append(rtuple)\n",
    "    return sorted(rank_val_attr_map, key=attrgetter('distance'))\n",
    "\n",
    "def find_closest_with_distance_cosine(vector_map, embedding):\n",
    "    rank_val_attr_map = []\n",
    "    for key, val in vector_map.items():\n",
    "        distance = spatial.distance.cosine(val, embedding)\n",
    "        rtuple = rankTuple(key, distance)\n",
    "        rank_val_attr_map.append(rtuple)\n",
    "    return sorted(rank_val_attr_map, key=attrgetter('distance'))\n",
    "\n",
    "def find_closest_embeddings_cosine(vector_map, embedding):\n",
    "    return sorted(vector_map.keys(), key=lambda word: spatial.distance.cosine(vector_map[word], embedding))\n",
    "\n",
    "def find_euclidean_distance(vec1, vec2):\n",
    "    return spatial.distance.euclidean(vec1, vec2)\n",
    "\n",
    "def find_cosine_distance(vec1, vec2):\n",
    "    return spatial.distance.cosine(vec1, vec2)\n",
    "\n",
    "def get_avg_sum_embedding(line, dictionary):\n",
    "    sum_of_vector = np.full((200, ), 0)\n",
    "    word_vec = line.split()\n",
    "    for word in word_vec:\n",
    "        embedding = dictionary.get(word, np.full((200, ), 0))\n",
    "        sum_of_vector = np.add(embedding, sum_of_vector)\n",
    "    sum_of_vector = np.divide(sum_of_vector, len(word_vec)) \n",
    "    return sum_of_vector"
   ]
  },
  {
   "cell_type": "code",
   "execution_count": 4,
   "metadata": {},
   "outputs": [],
   "source": [
    "attr_map = 'Trane-Demos/three_datasets/flight-delay/FlightDelay.mapping'\n",
    "attr_description_map = {}\n",
    "attr_vector_map = {}\n",
    "f = open(attr_map, encoding=\"utf8\")\n",
    "for line in f:\n",
    "    values = line.split('|')\n",
    "    word = values[0]\n",
    "    attr_description_map[word] = values[1].split('\\n')[0]\n",
    "\n",
    "for key, val in attr_description_map.items():\n",
    "    attr_vector_map[key] = get_avg_sum_embedding(val, embeddings_dict)"
   ]
  },
  {
   "cell_type": "code",
   "execution_count": 5,
   "metadata": {},
   "outputs": [],
   "source": [
    "human_query_dict = {}\n",
    "query_file_loc = 'human_query/query.txt'\n",
    "f = open(query_file_loc, encoding=\"utf8\")\n",
    "writer = open('output.txt', 'w')\n",
    "sum_of_human_query_vector = np.full((200, ), 0)\n",
    "for line in f:\n",
    "    writer.write(line + \"\\n\")\n",
    "    query = line.split(\"|\")[0]\n",
    "    sum_of_human_query_vector = get_avg_sum_embedding(query, embeddings_dict)\n",
    "    human_query_dict[query] = sum_of_human_query_vector\n",
    "    rank_euclidian = find_closest_with_distance_euclidean(attr_vector_map, sum_of_human_query_vector)\n",
    "    rank_cosine = find_closest_with_distance_cosine(attr_vector_map, sum_of_human_query_vector)\n",
    "    \n",
    "    writer.write(\"Euclidian rank -> \\n\")\n",
    "    i = 1\n",
    "    for rank_tuple in rank_euclidian:\n",
    "        writer.write('\\t' + str(i) + \". \" + str(rank_tuple.word) + \", \" + str(rank_tuple.distance))\n",
    "        i+=1\n",
    "    writer.write(\"\\n\\n\")\n",
    "    writer.write(\"Cosine rank -> \\n\")\n",
    "    i = 1\n",
    "    for rank_tuple in rank_cosine:\n",
    "        writer.write('\\t' + str(i) + \". \" + str(rank_tuple.word) + \", \" + str(rank_tuple.distance))\n",
    "        i+=1\n",
    "    \n",
    "    writer.write(\"\\n\\n\")"
   ]
  },
  {
   "cell_type": "code",
   "execution_count": null,
   "metadata": {},
   "outputs": [],
   "source": []
  }
 ],
 "metadata": {
  "kernelspec": {
   "display_name": "Python 3",
   "language": "python",
   "name": "python3"
  },
  "language_info": {
   "codemirror_mode": {
    "name": "ipython",
    "version": 3
   },
   "file_extension": ".py",
   "mimetype": "text/x-python",
   "name": "python",
   "nbconvert_exporter": "python",
   "pygments_lexer": "ipython3",
   "version": "3.7.6"
  }
 },
 "nbformat": 4,
 "nbformat_minor": 4
}
